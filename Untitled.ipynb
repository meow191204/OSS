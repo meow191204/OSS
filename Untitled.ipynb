{
 "cells": [
  {
   "cell_type": "code",
   "execution_count": 1,
   "id": "df8c2dcd",
   "metadata": {},
   "outputs": [
    {
     "name": "stdout",
     "output_type": "stream",
     "text": [
      "Hello World !\n"
     ]
    }
   ],
   "source": [
    "print (\"Hello\" , \"World\" , \"!\")"
   ]
  },
  {
   "cell_type": "code",
   "execution_count": 71,
   "id": "def88956",
   "metadata": {},
   "outputs": [
    {
     "name": "stdout",
     "output_type": "stream",
     "text": [
      "Hello Woeld ! \n"
     ]
    }
   ],
   "source": [
    "print (\"Hello Woeld ! \")"
   ]
  },
  {
   "cell_type": "code",
   "execution_count": 3,
   "id": "2237e9cb",
   "metadata": {},
   "outputs": [
    {
     "name": "stdout",
     "output_type": "stream",
     "text": [
      "*   *     **    ****    ****    *   *\n",
      "*   *    *  *   *   *   *   *   *   *\n",
      "*****   *    *  ****    ****     * * \n",
      "*   *   ******  *   *   *   *     *  \n",
      "*   *   *    *  *    *  *    *    *  \n"
     ]
    }
   ],
   "source": [
    "print ('*   *     **    ****    ****    *   *')\n",
    "print ('*   *    *  *   *   *   *   *   *   *')\n",
    "print ('*****   *    *  ****    ****     * * ')\n",
    "print ('*   *   ******  *   *   *   *     *  ')\n",
    "print ('*   *   *    *  *    *  *    *    *  ')"
   ]
  },
  {
   "cell_type": "code",
   "execution_count": 5,
   "id": "ca59e498",
   "metadata": {},
   "outputs": [
    {
     "name": "stdout",
     "output_type": "stream",
     "text": [
      "  /////  \n",
      " +\"\"\"\"\"+ \n",
      "(| o o |)\n",
      " |  ^  | \n",
      " | '-' | \n",
      " +-----+ \n"
     ]
    }
   ],
   "source": [
    "print ('  /////  ')\n",
    "print (' +\"\"\"\"\"+ ')\n",
    "print ('(| o o |)')\n",
    "print (' |  ^  | ')\n",
    "print (\" | '-' | \")\n",
    "print (' +-----+ ')"
   ]
  },
  {
   "cell_type": "code",
   "execution_count": 6,
   "id": "2c07bb4f",
   "metadata": {},
   "outputs": [
    {
     "name": "stdout",
     "output_type": "stream",
     "text": [
      "   +   \n",
      "  + +  \n",
      " +   + \n",
      "+-----+\n",
      "| .-. |\n",
      "| | | |\n",
      "+-+-+-+\n"
     ]
    }
   ],
   "source": [
    "print (\"   +   \")\n",
    "print (\"  + +  \")\n",
    "print (\" +   + \")\n",
    "print (\"+-----+\")\n",
    "print (\"| .-. |\")\n",
    "print (\"| | | |\")\n",
    "print (\"+-+-+-+\")"
   ]
  },
  {
   "cell_type": "code",
   "execution_count": 44,
   "id": "be6446a4",
   "metadata": {},
   "outputs": [
    {
     "name": "stdout",
     "output_type": "stream",
     "text": [
      " /\\_/\\     -----\n",
      "( ' ' )  / 안녕   \\ \n",
      "(  -  ) <  난 고냥이|\n",
      " | | |   \\ 야아옹  /\n",
      "(__|__)    -----\n"
     ]
    }
   ],
   "source": [
    "print (\" /\\_/\\     -----\")\n",
    "print (\"( ' ' )  / 안녕   \\ \")\n",
    "print (\"(  -  ) <  난 고냥이|\")\n",
    "print (\" | | |   \\ 야아옹  /\")\n",
    "print (\"(__|__)    -----\")\n"
   ]
  },
  {
   "cell_type": "code",
   "execution_count": 50,
   "id": "13055c99",
   "metadata": {},
   "outputs": [
    {
     "name": "stdout",
     "output_type": "stream",
     "text": [
      "Good morning. \n",
      "좋은 아침이에요. \n",
      "It is a pleasure to meet you.\n",
      "만나서 반가워요. \n",
      "Please call me tomorrow.\n",
      "내일 저에게 전화해주세요.\n",
      "Have a nice day!\n",
      "좋은 하루 보내세요!\n"
     ]
    }
   ],
   "source": [
    "print (\"Good morning. \")\n",
    "print (\"좋은 아침이에요. \")\n",
    "print (\"It is a pleasure to meet you.\")\n",
    "print (\"만나서 반가워요. \")\n",
    "print (\"Please call me tomorrow.\")\n",
    "print (\"내일 저에게 전화해주세요.\")\n",
    "print (\"Have a nice day!\")\n",
    "print (\"좋은 하루 보내세요!\")"
   ]
  },
  {
   "cell_type": "code",
   "execution_count": 54,
   "id": "6bc32a2f",
   "metadata": {},
   "outputs": [
    {
     "name": "stdout",
     "output_type": "stream",
     "text": [
      "39+3\n",
      "42\n"
     ]
    }
   ],
   "source": [
    "print (\"39+3\")\n",
    "print ( 39+3 )"
   ]
  },
  {
   "cell_type": "code",
   "execution_count": 57,
   "id": "833c8682",
   "metadata": {},
   "outputs": [
    {
     "name": "stdout",
     "output_type": "stream",
     "text": [
      "55\n"
     ]
    }
   ],
   "source": [
    "print (1+2+3+4+5+6+7+8+9+10)"
   ]
  },
  {
   "cell_type": "code",
   "execution_count": 60,
   "id": "46934ee7",
   "metadata": {},
   "outputs": [
    {
     "name": "stdout",
     "output_type": "stream",
     "text": [
      "1\n",
      "3\n",
      "6\n",
      "10\n",
      "15\n",
      "21\n",
      "28\n",
      "36\n",
      "45\n",
      "55\n"
     ]
    }
   ],
   "source": [
    "i = 0\n",
    "for j in range(1,11):\n",
    "    i = i+j\n",
    "    print(i)"
   ]
  },
  {
   "cell_type": "code",
   "execution_count": 61,
   "id": "254f4e75",
   "metadata": {},
   "outputs": [
    {
     "name": "stdout",
     "output_type": "stream",
     "text": [
      "55\n"
     ]
    }
   ],
   "source": [
    "i = 0\n",
    "for j in range (1,11):\n",
    "    i = i+j\n",
    "print (i)"
   ]
  },
  {
   "cell_type": "code",
   "execution_count": 58,
   "id": "eeac2fa1",
   "metadata": {},
   "outputs": [
    {
     "name": "stdout",
     "output_type": "stream",
     "text": [
      "3628800\n"
     ]
    }
   ],
   "source": [
    "print (1*2*3*4*5*6*7*8*9*10)"
   ]
  },
  {
   "cell_type": "code",
   "execution_count": 62,
   "id": "d1920a94",
   "metadata": {},
   "outputs": [
    {
     "name": "stdout",
     "output_type": "stream",
     "text": [
      "1\n",
      "2\n",
      "6\n",
      "24\n",
      "120\n",
      "720\n",
      "5040\n",
      "40320\n",
      "362880\n",
      "3628800\n"
     ]
    }
   ],
   "source": [
    "i = 1\n",
    "for j in range (1,11):\n",
    "    i = i*j\n",
    "    print (i)"
   ]
  },
  {
   "cell_type": "code",
   "execution_count": 63,
   "id": "9dcb1778",
   "metadata": {},
   "outputs": [
    {
     "name": "stdout",
     "output_type": "stream",
     "text": [
      "3628800\n"
     ]
    }
   ],
   "source": [
    "i = 1\n",
    "for j in range (1,11):\n",
    "    i = i*j\n",
    "print (i)"
   ]
  },
  {
   "cell_type": "code",
   "execution_count": 66,
   "id": "fbf1f629",
   "metadata": {},
   "outputs": [
    {
     "name": "stdout",
     "output_type": "stream",
     "text": [
      "1년 후 1050.0\n",
      "2년 후 1102.5\n",
      "3년 후 1157.625\n"
     ]
    }
   ],
   "source": [
    "print (\"1년 후\" , 1000*1.05)\n",
    "print (\"2년 후\" , 1000*1.05*1.05)\n",
    "print (\"3년 후\" , 1000*1.05*1.05*1.05)"
   ]
  },
  {
   "cell_type": "code",
   "execution_count": 69,
   "id": "05ef2023",
   "metadata": {},
   "outputs": [
    {
     "name": "stdout",
     "output_type": "stream",
     "text": [
      " ________\n",
      "|  먼지   |\n",
      "|________|\n"
     ]
    }
   ],
   "source": [
    "print (\" ________\")\n",
    "print (\"|  먼지   |\")\n",
    "print (\"|________|\")"
   ]
  },
  {
   "cell_type": "code",
   "execution_count": 6,
   "id": "7456432c",
   "metadata": {},
   "outputs": [
    {
     "ename": "TypeError",
     "evalue": "'hi' is an invalid keyword argument for print()",
     "output_type": "error",
     "traceback": [
      "\u001b[0;31m---------------------------------------------------------------------------\u001b[0m",
      "\u001b[0;31mTypeError\u001b[0m                                 Traceback (most recent call last)",
      "\u001b[0;32m/var/folders/46/9ry5zmpj49sbvm_g_1tt2z600000gn/T/ipykernel_1852/619714452.py\u001b[0m in \u001b[0;36m<module>\u001b[0;34m\u001b[0m\n\u001b[1;32m      3\u001b[0m \u001b[0mhu\u001b[0m \u001b[0;34m=\u001b[0m \u001b[0;36m3\u001b[0m\u001b[0;34m\u001b[0m\u001b[0;34m\u001b[0m\u001b[0m\n\u001b[1;32m      4\u001b[0m \u001b[0;34m\u001b[0m\u001b[0m\n\u001b[0;32m----> 5\u001b[0;31m \u001b[0mprint\u001b[0m \u001b[0;34m(\u001b[0m\u001b[0mhi\u001b[0m \u001b[0;34m=\u001b[0m \u001b[0mhi\u001b[0m \u001b[0;34m+\u001b[0m \u001b[0;36m8\u001b[0m\u001b[0;34m)\u001b[0m\u001b[0;34m\u001b[0m\u001b[0;34m\u001b[0m\u001b[0m\n\u001b[0m",
      "\u001b[0;31mTypeError\u001b[0m: 'hi' is an invalid keyword argument for print()"
     ]
    }
   ],
   "source": [
    "hi = 3\n",
    "bye = 77\n",
    "hu = 3\n",
    "\n",
    "print (hi = hi + 8)"
   ]
  },
  {
   "cell_type": "code",
   "execution_count": null,
   "id": "9202959a",
   "metadata": {},
   "outputs": [],
   "source": []
  }
 ],
 "metadata": {
  "kernelspec": {
   "display_name": "Python 3 (ipykernel)",
   "language": "python",
   "name": "python3"
  },
  "language_info": {
   "codemirror_mode": {
    "name": "ipython",
    "version": 3
   },
   "file_extension": ".py",
   "mimetype": "text/x-python",
   "name": "python",
   "nbconvert_exporter": "python",
   "pygments_lexer": "ipython3",
   "version": "3.9.7"
  }
 },
 "nbformat": 4,
 "nbformat_minor": 5
}
